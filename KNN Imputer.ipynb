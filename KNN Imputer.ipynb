{
 "cells": [
  {
   "cell_type": "code",
   "execution_count": 11,
   "id": "3d1ef939",
   "metadata": {},
   "outputs": [],
   "source": [
    "import pandas as pd\n",
    "import numpy as np\n",
    "from sklearn.model_selection import train_test_split"
   ]
  },
  {
   "cell_type": "code",
   "execution_count": 12,
   "id": "8dd4bcf6",
   "metadata": {},
   "outputs": [
    {
     "data": {
      "text/html": [
       "<div>\n",
       "<style scoped>\n",
       "    .dataframe tbody tr th:only-of-type {\n",
       "        vertical-align: middle;\n",
       "    }\n",
       "\n",
       "    .dataframe tbody tr th {\n",
       "        vertical-align: top;\n",
       "    }\n",
       "\n",
       "    .dataframe thead th {\n",
       "        text-align: right;\n",
       "    }\n",
       "</style>\n",
       "<table border=\"1\" class=\"dataframe\">\n",
       "  <thead>\n",
       "    <tr style=\"text-align: right;\">\n",
       "      <th></th>\n",
       "      <th>id</th>\n",
       "      <th>user_name</th>\n",
       "      <th>user_location</th>\n",
       "      <th>user_description</th>\n",
       "      <th>user_created</th>\n",
       "      <th>user_followers</th>\n",
       "      <th>user_friends</th>\n",
       "      <th>user_favourites</th>\n",
       "      <th>user_verified</th>\n",
       "      <th>date</th>\n",
       "      <th>text</th>\n",
       "      <th>hashtags</th>\n",
       "      <th>source</th>\n",
       "      <th>retweets</th>\n",
       "      <th>favorites</th>\n",
       "      <th>is_retweet</th>\n",
       "    </tr>\n",
       "  </thead>\n",
       "  <tbody>\n",
       "    <tr>\n",
       "      <th>0</th>\n",
       "      <td>1465693385088323591</td>\n",
       "      <td>Abaris</td>\n",
       "      <td>Hants</td>\n",
       "      <td>Would appear on Blogger (did originally),  but...</td>\n",
       "      <td>2009-09-16 14:30:32</td>\n",
       "      <td>2880</td>\n",
       "      <td>4369</td>\n",
       "      <td>26907</td>\n",
       "      <td>False</td>\n",
       "      <td>2021-11-30 14:45:08</td>\n",
       "      <td>@SkyNews \"Told you I'd be Back!\" #OMICRON “Odi...</td>\n",
       "      <td>['OMICRON']</td>\n",
       "      <td>Twitter Web App</td>\n",
       "      <td>0</td>\n",
       "      <td>0</td>\n",
       "      <td>False</td>\n",
       "    </tr>\n",
       "    <tr>\n",
       "      <th>1</th>\n",
       "      <td>1465693062999412746</td>\n",
       "      <td>GFTs </td>\n",
       "      <td>Lalaland</td>\n",
       "      <td>There's a field somewhere beyond all doubt and...</td>\n",
       "      <td>2019-12-28 14:29:13</td>\n",
       "      <td>165</td>\n",
       "      <td>583</td>\n",
       "      <td>21152</td>\n",
       "      <td>False</td>\n",
       "      <td>2021-11-30 14:43:52</td>\n",
       "      <td>Someone told me this in October #Omicron https...</td>\n",
       "      <td>['Omicron']</td>\n",
       "      <td>Twitter for Android</td>\n",
       "      <td>0</td>\n",
       "      <td>0</td>\n",
       "      <td>False</td>\n",
       "    </tr>\n",
       "    <tr>\n",
       "      <th>2</th>\n",
       "      <td>1465690116442279942</td>\n",
       "      <td>Herbie Finkle (Cozy)</td>\n",
       "      <td>NaN</td>\n",
       "      <td>help me find me frens ❤️</td>\n",
       "      <td>2021-07-10 09:40:57</td>\n",
       "      <td>114</td>\n",
       "      <td>393</td>\n",
       "      <td>2339</td>\n",
       "      <td>False</td>\n",
       "      <td>2021-11-30 14:32:09</td>\n",
       "      <td>Glad to see the public schoolkids are wrapping...</td>\n",
       "      <td>['COVID']</td>\n",
       "      <td>Twitter Web App</td>\n",
       "      <td>0</td>\n",
       "      <td>1</td>\n",
       "      <td>False</td>\n",
       "    </tr>\n",
       "    <tr>\n",
       "      <th>3</th>\n",
       "      <td>1465689607165591552</td>\n",
       "      <td>Electrical Review</td>\n",
       "      <td>United Kingdom</td>\n",
       "      <td>Electrical Review is a monthly journal aimed a...</td>\n",
       "      <td>2009-05-21 08:32:19</td>\n",
       "      <td>20759</td>\n",
       "      <td>2321</td>\n",
       "      <td>739</td>\n",
       "      <td>False</td>\n",
       "      <td>2021-11-30 14:30:08</td>\n",
       "      <td>#Automation systems have become increasingly c...</td>\n",
       "      <td>['Automation']</td>\n",
       "      <td>Hootsuite Inc.</td>\n",
       "      <td>0</td>\n",
       "      <td>0</td>\n",
       "      <td>False</td>\n",
       "    </tr>\n",
       "    <tr>\n",
       "      <th>4</th>\n",
       "      <td>1465688203709464578</td>\n",
       "      <td>BingX Academy 🔑</td>\n",
       "      <td>NaN</td>\n",
       "      <td>BingX (Prev. Bingbon) is the world's top crypt...</td>\n",
       "      <td>2013-12-31 02:57:32</td>\n",
       "      <td>17134</td>\n",
       "      <td>8</td>\n",
       "      <td>31</td>\n",
       "      <td>False</td>\n",
       "      <td>2021-11-30 14:24:33</td>\n",
       "      <td>🟢 If u think Omicron is a FUD, you LONG📈\\n🔴 If...</td>\n",
       "      <td>NaN</td>\n",
       "      <td>Twitter Web App</td>\n",
       "      <td>2</td>\n",
       "      <td>2</td>\n",
       "      <td>False</td>\n",
       "    </tr>\n",
       "  </tbody>\n",
       "</table>\n",
       "</div>"
      ],
      "text/plain": [
       "                    id             user_name   user_location  \\\n",
       "0  1465693385088323591                Abaris           Hants   \n",
       "1  1465693062999412746                GFTs         Lalaland   \n",
       "2  1465690116442279942  Herbie Finkle (Cozy)             NaN   \n",
       "3  1465689607165591552     Electrical Review  United Kingdom   \n",
       "4  1465688203709464578       BingX Academy 🔑             NaN   \n",
       "\n",
       "                                    user_description         user_created  \\\n",
       "0  Would appear on Blogger (did originally),  but...  2009-09-16 14:30:32   \n",
       "1  There's a field somewhere beyond all doubt and...  2019-12-28 14:29:13   \n",
       "2                           help me find me frens ❤️  2021-07-10 09:40:57   \n",
       "3  Electrical Review is a monthly journal aimed a...  2009-05-21 08:32:19   \n",
       "4  BingX (Prev. Bingbon) is the world's top crypt...  2013-12-31 02:57:32   \n",
       "\n",
       "   user_followers  user_friends  user_favourites  user_verified  \\\n",
       "0            2880          4369            26907          False   \n",
       "1             165           583            21152          False   \n",
       "2             114           393             2339          False   \n",
       "3           20759          2321              739          False   \n",
       "4           17134             8               31          False   \n",
       "\n",
       "                  date                                               text  \\\n",
       "0  2021-11-30 14:45:08  @SkyNews \"Told you I'd be Back!\" #OMICRON “Odi...   \n",
       "1  2021-11-30 14:43:52  Someone told me this in October #Omicron https...   \n",
       "2  2021-11-30 14:32:09  Glad to see the public schoolkids are wrapping...   \n",
       "3  2021-11-30 14:30:08  #Automation systems have become increasingly c...   \n",
       "4  2021-11-30 14:24:33  🟢 If u think Omicron is a FUD, you LONG📈\\n🔴 If...   \n",
       "\n",
       "         hashtags               source  retweets  favorites  is_retweet  \n",
       "0     ['OMICRON']      Twitter Web App         0          0       False  \n",
       "1     ['Omicron']  Twitter for Android         0          0       False  \n",
       "2       ['COVID']      Twitter Web App         0          1       False  \n",
       "3  ['Automation']       Hootsuite Inc.         0          0       False  \n",
       "4             NaN      Twitter Web App         2          2       False  "
      ]
     },
     "execution_count": 12,
     "metadata": {},
     "output_type": "execute_result"
    }
   ],
   "source": [
    "omicron_data =pd.read_csv('C:\\\\Users\\\\Athiban\\\\Desktop\\\\Kee\\\\omicron.csv' , na_values=' ?')\n",
    "omicron_data.head(5)"
   ]
  },
  {
   "cell_type": "code",
   "execution_count": 13,
   "id": "6f5ab718",
   "metadata": {},
   "outputs": [
    {
     "data": {
      "text/plain": [
       "id                   int64\n",
       "user_name           object\n",
       "user_location       object\n",
       "user_description    object\n",
       "user_created        object\n",
       "user_followers       int64\n",
       "user_friends         int64\n",
       "user_favourites      int64\n",
       "user_verified         bool\n",
       "date                object\n",
       "text                object\n",
       "hashtags            object\n",
       "source              object\n",
       "retweets             int64\n",
       "favorites            int64\n",
       "is_retweet            bool\n",
       "dtype: object"
      ]
     },
     "execution_count": 13,
     "metadata": {},
     "output_type": "execute_result"
    }
   ],
   "source": [
    "omicron_data.dtypes"
   ]
  },
  {
   "cell_type": "code",
   "execution_count": 6,
   "id": "724dbc4d",
   "metadata": {},
   "outputs": [
    {
     "data": {
      "text/plain": [
       "id                     0\n",
       "user_name              0\n",
       "user_location       6452\n",
       "user_description    1754\n",
       "user_created           0\n",
       "user_followers         0\n",
       "user_friends           0\n",
       "user_favourites        0\n",
       "user_verified          0\n",
       "date                   0\n",
       "text                   0\n",
       "hashtags            6787\n",
       "source                 0\n",
       "retweets               0\n",
       "favorites              0\n",
       "is_retweet             0\n",
       "dtype: int64"
      ]
     },
     "execution_count": 6,
     "metadata": {},
     "output_type": "execute_result"
    }
   ],
   "source": [
    "omicron_data.isna().sum()"
   ]
  },
  {
   "cell_type": "code",
   "execution_count": 14,
   "id": "e5580cc1",
   "metadata": {},
   "outputs": [
    {
     "name": "stdout",
     "output_type": "stream",
     "text": [
      "object\n",
      "                        id                                   user_name  \\\n",
      "0      1465693385088323591                                      Abaris   \n",
      "1      1465693062999412746                                      GFTs    \n",
      "2      1465690116442279942                        Herbie Finkle (Cozy)   \n",
      "3      1465689607165591552                           Electrical Review   \n",
      "4      1465688203709464578                             BingX Academy 🔑   \n",
      "...                    ...                                         ...   \n",
      "27163  1469394514003570688                                     Chez_Em   \n",
      "27164  1469394487529160719  Protect Yourself 💉💪🩹 & Your Neighbors 😷↔️😷   \n",
      "27165  1469394463109885964                                  Gigglebean   \n",
      "27166  1469394436014714888                    David R. Martinez, Ph.D.   \n",
      "27167  1469394394327371784                               Nathan Joyner   \n",
      "\n",
      "                      user_location  \\\n",
      "0                             Hants   \n",
      "1                          Lalaland   \n",
      "2                               NaN   \n",
      "3                    United Kingdom   \n",
      "4                               NaN   \n",
      "...                             ...   \n",
      "27163            Central Confusion    \n",
      "27164                           NaN   \n",
      "27165                           NaN   \n",
      "27166  Durham, NC, Chapell Hill, NC   \n",
      "27167               Los Angeles, CA   \n",
      "\n",
      "                                        user_description         user_created  \\\n",
      "0      Would appear on Blogger (did originally),  but...  2009-09-16 14:30:32   \n",
      "1      There's a field somewhere beyond all doubt and...  2019-12-28 14:29:13   \n",
      "2                               help me find me frens ❤️  2021-07-10 09:40:57   \n",
      "3      Electrical Review is a monthly journal aimed a...  2009-05-21 08:32:19   \n",
      "4      BingX (Prev. Bingbon) is the world's top crypt...  2013-12-31 02:57:32   \n",
      "...                                                  ...                  ...   \n",
      "27163  My passion: 🐘s 🐻s the well being thereof\\nAnim...  2010-03-29 13:33:33   \n",
      "27164  #BeTheLight 🔥 #SaveOurOceans #BanPlasticWaste ...  2008-10-15 22:24:26   \n",
      "27165  *All meme content is satire* All tweets are “t...  2015-03-13 19:31:55   \n",
      "27166  Hanna H. Gray Fellow of the @HHMINEWS and @BWF...  2012-10-12 21:01:34   \n",
      "27167  Global Venture Captial and Private Equity/Busi...  2015-05-18 20:52:29   \n",
      "\n",
      "       user_followers  user_friends  user_favourites  user_verified  \\\n",
      "0                2880          4369            26907          False   \n",
      "1                 165           583            21152          False   \n",
      "2                 114           393             2339          False   \n",
      "3               20759          2321              739          False   \n",
      "4               17134             8               31          False   \n",
      "...               ...           ...              ...            ...   \n",
      "27163            5796          1743             3814          False   \n",
      "27164             309            33            93090          False   \n",
      "27165              20           127              898          False   \n",
      "27166            2857           464            13431           True   \n",
      "27167              35             8              664          False   \n",
      "\n",
      "                      date                                               text  \\\n",
      "0      2021-11-30 14:45:08  @SkyNews \"Told you I'd be Back!\" #OMICRON “Odi...   \n",
      "1      2021-11-30 14:43:52  Someone told me this in October #Omicron https...   \n",
      "2      2021-11-30 14:32:09  Glad to see the public schoolkids are wrapping...   \n",
      "3      2021-11-30 14:30:08  #Automation systems have become increasingly c...   \n",
      "4      2021-11-30 14:24:33  🟢 If u think Omicron is a FUD, you LONG📈\\n🔴 If...   \n",
      "...                    ...                                                ...   \n",
      "27163  2021-12-10 19:52:06  If you have just had the Delta ( you're suppos...   \n",
      "27164  2021-12-10 19:52:00  Still un-vaccinated? #GetVaccinated NOW! It ta...   \n",
      "27165  2021-12-10 19:51:54  Yeah #Omicron is really scary and all, but wan...   \n",
      "27166  2021-12-10 19:51:48  Some of this already announced by companies. L...   \n",
      "27167  2021-12-10 19:51:38  Growth in 7D US Confirmed Covid Cases by Count...   \n",
      "\n",
      "                hashtags               source  retweets  favorites  is_retweet  \n",
      "0            ['OMICRON']      Twitter Web App         0          0       False  \n",
      "1            ['Omicron']  Twitter for Android         0          0       False  \n",
      "2              ['COVID']      Twitter Web App         0          1       False  \n",
      "3         ['Automation']       Hootsuite Inc.         0          0       False  \n",
      "4                    NaN      Twitter Web App         2          2       False  \n",
      "...                  ...                  ...       ...        ...         ...  \n",
      "27163        ['Omicron']  Twitter for Android         0          0       False  \n",
      "27164  ['GetVaccinated']      Twitter Web App         0          0       False  \n",
      "27165        ['Omicron']   Twitter for iPhone         0          0       False  \n",
      "27166        ['Omicron']   Twitter for iPhone       134        343       False  \n",
      "27167                NaN       smcapplication         1          1       False  \n",
      "\n",
      "[27168 rows x 16 columns]\n"
     ]
    }
   ],
   "source": [
    "print(omicron_data['user_location'].dtypes)\n",
    "print(omicron_data)"
   ]
  },
  {
   "cell_type": "raw",
   "id": "f20953f6",
   "metadata": {},
   "source": []
  },
  {
   "cell_type": "code",
   "execution_count": 15,
   "id": "1fee8741",
   "metadata": {},
   "outputs": [
    {
     "data": {
      "text/plain": [
       "id                    20\n",
       "user_name              0\n",
       "user_location       6452\n",
       "user_description    1754\n",
       "user_created           0\n",
       "user_followers         0\n",
       "user_friends           0\n",
       "user_favourites        0\n",
       "user_verified          0\n",
       "date                   0\n",
       "text                   0\n",
       "hashtags            6787\n",
       "source                 0\n",
       "retweets               0\n",
       "favorites              0\n",
       "is_retweet             0\n",
       "dtype: int64"
      ]
     },
     "execution_count": 15,
     "metadata": {},
     "output_type": "execute_result"
    }
   ],
   "source": [
    "# now , these 3 coulmns are catorigal column, hence i am going to impute some missing values for numerical column, here i am going to take id column\n",
    "\n",
    "np.random.seed(seed=0)\n",
    "i = np.random.choice(a=omicron_data.index,replace = False, size = 20)\n",
    "omicron_data.loc[i,'id'] = np.nan\n",
    "omicron_data.isna().sum()"
   ]
  },
  {
   "cell_type": "code",
   "execution_count": 19,
   "id": "78727495",
   "metadata": {},
   "outputs": [],
   "source": [
    "x_train,x_test,y_train,y_test = train_test_split(omicron_data.drop('is_retweet', axis =1),\n",
    "                                                 omicron_data['is_retweet'],\n",
    "                                                 test_size=0.2,\n",
    "                                                 random_state=30)"
   ]
  },
  {
   "cell_type": "code",
   "execution_count": 20,
   "id": "656c56b2",
   "metadata": {},
   "outputs": [],
   "source": [
    "from sklearn.impute import KNNImputer"
   ]
  },
  {
   "cell_type": "code",
   "execution_count": 45,
   "id": "b83b5ada",
   "metadata": {},
   "outputs": [],
   "source": [
    "knn = KNNImputer(n_neighbors=5, add_indicator=True)"
   ]
  },
  {
   "cell_type": "code",
   "execution_count": 22,
   "id": "69069da9",
   "metadata": {},
   "outputs": [
    {
     "ename": "ValueError",
     "evalue": "could not convert string to float: 'Dr Kuldip Solanki'",
     "output_type": "error",
     "traceback": [
      "\u001b[1;31m---------------------------------------------------------------------------\u001b[0m",
      "\u001b[1;31mValueError\u001b[0m                                Traceback (most recent call last)",
      "\u001b[1;32m~\\AppData\\Local\\Temp/ipykernel_12692/2007399305.py\u001b[0m in \u001b[0;36m<module>\u001b[1;34m\u001b[0m\n\u001b[1;32m----> 1\u001b[1;33m \u001b[0mknn\u001b[0m\u001b[1;33m.\u001b[0m\u001b[0mfit\u001b[0m\u001b[1;33m(\u001b[0m\u001b[0mx_train\u001b[0m\u001b[1;33m)\u001b[0m\u001b[1;33m\u001b[0m\u001b[1;33m\u001b[0m\u001b[0m\n\u001b[0m\u001b[0;32m      2\u001b[0m \u001b[1;33m\u001b[0m\u001b[0m\n\u001b[0;32m      3\u001b[0m \u001b[1;31m#got the below error\u001b[0m\u001b[1;33m\u001b[0m\u001b[1;33m\u001b[0m\u001b[1;33m\u001b[0m\u001b[0m\n\u001b[0;32m      4\u001b[0m \u001b[1;31m#ValueError: could not convert string to float: 'Dr Kuldip Solanki' in user_name column , since this is object data type\u001b[0m\u001b[1;33m\u001b[0m\u001b[1;33m\u001b[0m\u001b[1;33m\u001b[0m\u001b[0m\n",
      "\u001b[1;32mc:\\python39\\lib\\site-packages\\sklearn\\impute\\_knn.py\u001b[0m in \u001b[0;36mfit\u001b[1;34m(self, X, y)\u001b[0m\n\u001b[0;32m    207\u001b[0m             )\n\u001b[0;32m    208\u001b[0m \u001b[1;33m\u001b[0m\u001b[0m\n\u001b[1;32m--> 209\u001b[1;33m         X = self._validate_data(\n\u001b[0m\u001b[0;32m    210\u001b[0m             \u001b[0mX\u001b[0m\u001b[1;33m,\u001b[0m\u001b[1;33m\u001b[0m\u001b[1;33m\u001b[0m\u001b[0m\n\u001b[0;32m    211\u001b[0m             \u001b[0maccept_sparse\u001b[0m\u001b[1;33m=\u001b[0m\u001b[1;32mFalse\u001b[0m\u001b[1;33m,\u001b[0m\u001b[1;33m\u001b[0m\u001b[1;33m\u001b[0m\u001b[0m\n",
      "\u001b[1;32mc:\\python39\\lib\\site-packages\\sklearn\\base.py\u001b[0m in \u001b[0;36m_validate_data\u001b[1;34m(self, X, y, reset, validate_separately, **check_params)\u001b[0m\n\u001b[0;32m    559\u001b[0m             \u001b[1;32mraise\u001b[0m \u001b[0mValueError\u001b[0m\u001b[1;33m(\u001b[0m\u001b[1;34m\"Validation should be done on X, y or both.\"\u001b[0m\u001b[1;33m)\u001b[0m\u001b[1;33m\u001b[0m\u001b[1;33m\u001b[0m\u001b[0m\n\u001b[0;32m    560\u001b[0m         \u001b[1;32melif\u001b[0m \u001b[1;32mnot\u001b[0m \u001b[0mno_val_X\u001b[0m \u001b[1;32mand\u001b[0m \u001b[0mno_val_y\u001b[0m\u001b[1;33m:\u001b[0m\u001b[1;33m\u001b[0m\u001b[1;33m\u001b[0m\u001b[0m\n\u001b[1;32m--> 561\u001b[1;33m             \u001b[0mX\u001b[0m \u001b[1;33m=\u001b[0m \u001b[0mcheck_array\u001b[0m\u001b[1;33m(\u001b[0m\u001b[0mX\u001b[0m\u001b[1;33m,\u001b[0m \u001b[1;33m**\u001b[0m\u001b[0mcheck_params\u001b[0m\u001b[1;33m)\u001b[0m\u001b[1;33m\u001b[0m\u001b[1;33m\u001b[0m\u001b[0m\n\u001b[0m\u001b[0;32m    562\u001b[0m             \u001b[0mout\u001b[0m \u001b[1;33m=\u001b[0m \u001b[0mX\u001b[0m\u001b[1;33m\u001b[0m\u001b[1;33m\u001b[0m\u001b[0m\n\u001b[0;32m    563\u001b[0m         \u001b[1;32melif\u001b[0m \u001b[0mno_val_X\u001b[0m \u001b[1;32mand\u001b[0m \u001b[1;32mnot\u001b[0m \u001b[0mno_val_y\u001b[0m\u001b[1;33m:\u001b[0m\u001b[1;33m\u001b[0m\u001b[1;33m\u001b[0m\u001b[0m\n",
      "\u001b[1;32mc:\\python39\\lib\\site-packages\\sklearn\\utils\\validation.py\u001b[0m in \u001b[0;36mcheck_array\u001b[1;34m(array, accept_sparse, accept_large_sparse, dtype, order, copy, force_all_finite, ensure_2d, allow_nd, ensure_min_samples, ensure_min_features, estimator)\u001b[0m\n\u001b[0;32m    736\u001b[0m                     \u001b[0marray\u001b[0m \u001b[1;33m=\u001b[0m \u001b[0marray\u001b[0m\u001b[1;33m.\u001b[0m\u001b[0mastype\u001b[0m\u001b[1;33m(\u001b[0m\u001b[0mdtype\u001b[0m\u001b[1;33m,\u001b[0m \u001b[0mcasting\u001b[0m\u001b[1;33m=\u001b[0m\u001b[1;34m\"unsafe\"\u001b[0m\u001b[1;33m,\u001b[0m \u001b[0mcopy\u001b[0m\u001b[1;33m=\u001b[0m\u001b[1;32mFalse\u001b[0m\u001b[1;33m)\u001b[0m\u001b[1;33m\u001b[0m\u001b[1;33m\u001b[0m\u001b[0m\n\u001b[0;32m    737\u001b[0m                 \u001b[1;32melse\u001b[0m\u001b[1;33m:\u001b[0m\u001b[1;33m\u001b[0m\u001b[1;33m\u001b[0m\u001b[0m\n\u001b[1;32m--> 738\u001b[1;33m                     \u001b[0marray\u001b[0m \u001b[1;33m=\u001b[0m \u001b[0mnp\u001b[0m\u001b[1;33m.\u001b[0m\u001b[0masarray\u001b[0m\u001b[1;33m(\u001b[0m\u001b[0marray\u001b[0m\u001b[1;33m,\u001b[0m \u001b[0morder\u001b[0m\u001b[1;33m=\u001b[0m\u001b[0morder\u001b[0m\u001b[1;33m,\u001b[0m \u001b[0mdtype\u001b[0m\u001b[1;33m=\u001b[0m\u001b[0mdtype\u001b[0m\u001b[1;33m)\u001b[0m\u001b[1;33m\u001b[0m\u001b[1;33m\u001b[0m\u001b[0m\n\u001b[0m\u001b[0;32m    739\u001b[0m             \u001b[1;32mexcept\u001b[0m \u001b[0mComplexWarning\u001b[0m \u001b[1;32mas\u001b[0m \u001b[0mcomplex_warning\u001b[0m\u001b[1;33m:\u001b[0m\u001b[1;33m\u001b[0m\u001b[1;33m\u001b[0m\u001b[0m\n\u001b[0;32m    740\u001b[0m                 raise ValueError(\n",
      "\u001b[1;32mc:\\python39\\lib\\site-packages\\pandas\\core\\generic.py\u001b[0m in \u001b[0;36m__array__\u001b[1;34m(self, dtype)\u001b[0m\n\u001b[0;32m   1991\u001b[0m \u001b[1;33m\u001b[0m\u001b[0m\n\u001b[0;32m   1992\u001b[0m     \u001b[1;32mdef\u001b[0m \u001b[0m__array__\u001b[0m\u001b[1;33m(\u001b[0m\u001b[0mself\u001b[0m\u001b[1;33m,\u001b[0m \u001b[0mdtype\u001b[0m\u001b[1;33m:\u001b[0m \u001b[0mNpDtype\u001b[0m \u001b[1;33m|\u001b[0m \u001b[1;32mNone\u001b[0m \u001b[1;33m=\u001b[0m \u001b[1;32mNone\u001b[0m\u001b[1;33m)\u001b[0m \u001b[1;33m->\u001b[0m \u001b[0mnp\u001b[0m\u001b[1;33m.\u001b[0m\u001b[0mndarray\u001b[0m\u001b[1;33m:\u001b[0m\u001b[1;33m\u001b[0m\u001b[1;33m\u001b[0m\u001b[0m\n\u001b[1;32m-> 1993\u001b[1;33m         \u001b[1;32mreturn\u001b[0m \u001b[0mnp\u001b[0m\u001b[1;33m.\u001b[0m\u001b[0masarray\u001b[0m\u001b[1;33m(\u001b[0m\u001b[0mself\u001b[0m\u001b[1;33m.\u001b[0m\u001b[0m_values\u001b[0m\u001b[1;33m,\u001b[0m \u001b[0mdtype\u001b[0m\u001b[1;33m=\u001b[0m\u001b[0mdtype\u001b[0m\u001b[1;33m)\u001b[0m\u001b[1;33m\u001b[0m\u001b[1;33m\u001b[0m\u001b[0m\n\u001b[0m\u001b[0;32m   1994\u001b[0m \u001b[1;33m\u001b[0m\u001b[0m\n\u001b[0;32m   1995\u001b[0m     def __array_wrap__(\n",
      "\u001b[1;31mValueError\u001b[0m: could not convert string to float: 'Dr Kuldip Solanki'"
     ]
    }
   ],
   "source": [
    "knn.fit(x_train)\n",
    "\n",
    "#got the below error\n",
    "#ValueError: could not convert string to float: 'Dr Kuldip Solanki' in user_name column , since this is object data type"
   ]
  },
  {
   "cell_type": "code",
   "execution_count": 23,
   "id": "d962d20b",
   "metadata": {},
   "outputs": [
    {
     "data": {
      "text/plain": [
       "id                  float64\n",
       "user_name            object\n",
       "user_location        object\n",
       "user_description     object\n",
       "user_created         object\n",
       "user_followers        int64\n",
       "user_friends          int64\n",
       "user_favourites       int64\n",
       "user_verified          bool\n",
       "date                 object\n",
       "text                 object\n",
       "hashtags             object\n",
       "source               object\n",
       "retweets              int64\n",
       "favorites             int64\n",
       "is_retweet             bool\n",
       "dtype: object"
      ]
     },
     "execution_count": 23,
     "metadata": {},
     "output_type": "execute_result"
    }
   ],
   "source": [
    "omicron_data.dtypes"
   ]
  },
  {
   "cell_type": "code",
   "execution_count": 44,
   "id": "43bbe685",
   "metadata": {},
   "outputs": [
    {
     "data": {
      "text/plain": [
       "Index(['id', 'user_name', 'user_location', 'user_description', 'user_created',\n",
       "       'user_followers', 'user_friends', 'user_favourites', 'user_verified',\n",
       "       'date', 'text', 'hashtags', 'source', 'retweets', 'favorites'],\n",
       "      dtype='object')"
      ]
     },
     "execution_count": 44,
     "metadata": {},
     "output_type": "execute_result"
    }
   ],
   "source": [
    "x_train.columns"
   ]
  },
  {
   "cell_type": "code",
   "execution_count": 43,
   "id": "4e34a12b",
   "metadata": {},
   "outputs": [
    {
     "data": {
      "text/plain": [
       "['id',\n",
       " 'user_followers',\n",
       " 'user_friends',\n",
       " 'user_favourites',\n",
       " 'user_verified',\n",
       " 'retweets',\n",
       " 'favorites']"
      ]
     },
     "execution_count": 43,
     "metadata": {},
     "output_type": "execute_result"
    }
   ],
   "source": [
    "[col for col in x_train.columns if(x_train[col].dtypes!='O')]"
   ]
  },
  {
   "cell_type": "code",
   "execution_count": 31,
   "id": "224bc377",
   "metadata": {},
   "outputs": [],
   "source": [
    "num_col = [col for col in x_train.columns if(x_train[col].dtypes!='O')]"
   ]
  },
  {
   "cell_type": "code",
   "execution_count": 32,
   "id": "54fc0fe9",
   "metadata": {},
   "outputs": [
    {
     "data": {
      "text/html": [
       "<div>\n",
       "<style scoped>\n",
       "    .dataframe tbody tr th:only-of-type {\n",
       "        vertical-align: middle;\n",
       "    }\n",
       "\n",
       "    .dataframe tbody tr th {\n",
       "        vertical-align: top;\n",
       "    }\n",
       "\n",
       "    .dataframe thead th {\n",
       "        text-align: right;\n",
       "    }\n",
       "</style>\n",
       "<table border=\"1\" class=\"dataframe\">\n",
       "  <thead>\n",
       "    <tr style=\"text-align: right;\">\n",
       "      <th></th>\n",
       "      <th>id</th>\n",
       "      <th>user_followers</th>\n",
       "      <th>user_friends</th>\n",
       "      <th>user_favourites</th>\n",
       "      <th>user_verified</th>\n",
       "      <th>retweets</th>\n",
       "      <th>favorites</th>\n",
       "    </tr>\n",
       "  </thead>\n",
       "  <tbody>\n",
       "    <tr>\n",
       "      <th>12641</th>\n",
       "      <td>1.467030e+18</td>\n",
       "      <td>379</td>\n",
       "      <td>257</td>\n",
       "      <td>3451</td>\n",
       "      <td>False</td>\n",
       "      <td>0</td>\n",
       "      <td>3</td>\n",
       "    </tr>\n",
       "    <tr>\n",
       "      <th>16528</th>\n",
       "      <td>1.467418e+18</td>\n",
       "      <td>240</td>\n",
       "      <td>1271</td>\n",
       "      <td>7882</td>\n",
       "      <td>False</td>\n",
       "      <td>0</td>\n",
       "      <td>0</td>\n",
       "    </tr>\n",
       "    <tr>\n",
       "      <th>14489</th>\n",
       "      <td>1.466942e+18</td>\n",
       "      <td>348</td>\n",
       "      <td>290</td>\n",
       "      <td>2546</td>\n",
       "      <td>False</td>\n",
       "      <td>0</td>\n",
       "      <td>0</td>\n",
       "    </tr>\n",
       "    <tr>\n",
       "      <th>8928</th>\n",
       "      <td>1.466360e+18</td>\n",
       "      <td>1833754</td>\n",
       "      <td>37</td>\n",
       "      <td>399</td>\n",
       "      <td>True</td>\n",
       "      <td>4</td>\n",
       "      <td>14</td>\n",
       "    </tr>\n",
       "    <tr>\n",
       "      <th>15390</th>\n",
       "      <td>1.467466e+18</td>\n",
       "      <td>208</td>\n",
       "      <td>204</td>\n",
       "      <td>2267</td>\n",
       "      <td>False</td>\n",
       "      <td>0</td>\n",
       "      <td>0</td>\n",
       "    </tr>\n",
       "  </tbody>\n",
       "</table>\n",
       "</div>"
      ],
      "text/plain": [
       "                 id  user_followers  user_friends  user_favourites  \\\n",
       "12641  1.467030e+18             379           257             3451   \n",
       "16528  1.467418e+18             240          1271             7882   \n",
       "14489  1.466942e+18             348           290             2546   \n",
       "8928   1.466360e+18         1833754            37              399   \n",
       "15390  1.467466e+18             208           204             2267   \n",
       "\n",
       "       user_verified  retweets  favorites  \n",
       "12641          False         0          3  \n",
       "16528          False         0          0  \n",
       "14489          False         0          0  \n",
       "8928            True         4         14  \n",
       "15390          False         0          0  "
      ]
     },
     "execution_count": 32,
     "metadata": {},
     "output_type": "execute_result"
    }
   ],
   "source": [
    "x_train[num_col].head(5)"
   ]
  },
  {
   "cell_type": "raw",
   "id": "66b7926d",
   "metadata": {},
   "source": []
  },
  {
   "cell_type": "code",
   "execution_count": 47,
   "id": "91ae8703",
   "metadata": {},
   "outputs": [
    {
     "data": {
      "text/plain": [
       "KNNImputer(add_indicator=True)"
      ]
     },
     "execution_count": 47,
     "metadata": {},
     "output_type": "execute_result"
    }
   ],
   "source": [
    "knn.fit(x_train[num_col])"
   ]
  },
  {
   "cell_type": "code",
   "execution_count": 48,
   "id": "e7303a37",
   "metadata": {},
   "outputs": [
    {
     "data": {
      "text/plain": [
       "array([[1.46703026e+18, 3.79000000e+02, 2.57000000e+02, ...,\n",
       "        0.00000000e+00, 3.00000000e+00, 0.00000000e+00],\n",
       "       [1.46741780e+18, 2.40000000e+02, 1.27100000e+03, ...,\n",
       "        0.00000000e+00, 0.00000000e+00, 0.00000000e+00],\n",
       "       [1.46694155e+18, 3.48000000e+02, 2.90000000e+02, ...,\n",
       "        0.00000000e+00, 0.00000000e+00, 0.00000000e+00],\n",
       "       ...,\n",
       "       [1.46747082e+18, 1.31000000e+03, 2.37700000e+03, ...,\n",
       "        0.00000000e+00, 0.00000000e+00, 0.00000000e+00],\n",
       "       [1.46596534e+18, 3.00000000e+00, 3.10000000e+01, ...,\n",
       "        7.00000000e+00, 3.00000000e+00, 0.00000000e+00],\n",
       "       [1.46592857e+18, 4.74300000e+03, 1.70900000e+03, ...,\n",
       "        1.00000000e+00, 1.00000000e+00, 0.00000000e+00]])"
      ]
     },
     "execution_count": 48,
     "metadata": {},
     "output_type": "execute_result"
    }
   ],
   "source": [
    "knn.transform(x_train[num_col])"
   ]
  },
  {
   "cell_type": "code",
   "execution_count": 50,
   "id": "93b0c052",
   "metadata": {},
   "outputs": [],
   "source": [
    "a = pd.DataFrame(knn.transform(x_train[num_col]))"
   ]
  },
  {
   "cell_type": "code",
   "execution_count": 51,
   "id": "a34fea75",
   "metadata": {},
   "outputs": [
    {
     "data": {
      "text/html": [
       "<div>\n",
       "<style scoped>\n",
       "    .dataframe tbody tr th:only-of-type {\n",
       "        vertical-align: middle;\n",
       "    }\n",
       "\n",
       "    .dataframe tbody tr th {\n",
       "        vertical-align: top;\n",
       "    }\n",
       "\n",
       "    .dataframe thead th {\n",
       "        text-align: right;\n",
       "    }\n",
       "</style>\n",
       "<table border=\"1\" class=\"dataframe\">\n",
       "  <thead>\n",
       "    <tr style=\"text-align: right;\">\n",
       "      <th></th>\n",
       "      <th>0</th>\n",
       "      <th>1</th>\n",
       "      <th>2</th>\n",
       "      <th>3</th>\n",
       "      <th>4</th>\n",
       "      <th>5</th>\n",
       "      <th>6</th>\n",
       "      <th>7</th>\n",
       "    </tr>\n",
       "  </thead>\n",
       "  <tbody>\n",
       "    <tr>\n",
       "      <th>0</th>\n",
       "      <td>1.467030e+18</td>\n",
       "      <td>379.0</td>\n",
       "      <td>257.0</td>\n",
       "      <td>3451.0</td>\n",
       "      <td>0.0</td>\n",
       "      <td>0.0</td>\n",
       "      <td>3.0</td>\n",
       "      <td>0.0</td>\n",
       "    </tr>\n",
       "    <tr>\n",
       "      <th>1</th>\n",
       "      <td>1.467418e+18</td>\n",
       "      <td>240.0</td>\n",
       "      <td>1271.0</td>\n",
       "      <td>7882.0</td>\n",
       "      <td>0.0</td>\n",
       "      <td>0.0</td>\n",
       "      <td>0.0</td>\n",
       "      <td>0.0</td>\n",
       "    </tr>\n",
       "    <tr>\n",
       "      <th>2</th>\n",
       "      <td>1.466942e+18</td>\n",
       "      <td>348.0</td>\n",
       "      <td>290.0</td>\n",
       "      <td>2546.0</td>\n",
       "      <td>0.0</td>\n",
       "      <td>0.0</td>\n",
       "      <td>0.0</td>\n",
       "      <td>0.0</td>\n",
       "    </tr>\n",
       "    <tr>\n",
       "      <th>3</th>\n",
       "      <td>1.466360e+18</td>\n",
       "      <td>1833754.0</td>\n",
       "      <td>37.0</td>\n",
       "      <td>399.0</td>\n",
       "      <td>1.0</td>\n",
       "      <td>4.0</td>\n",
       "      <td>14.0</td>\n",
       "      <td>0.0</td>\n",
       "    </tr>\n",
       "    <tr>\n",
       "      <th>4</th>\n",
       "      <td>1.467466e+18</td>\n",
       "      <td>208.0</td>\n",
       "      <td>204.0</td>\n",
       "      <td>2267.0</td>\n",
       "      <td>0.0</td>\n",
       "      <td>0.0</td>\n",
       "      <td>0.0</td>\n",
       "      <td>0.0</td>\n",
       "    </tr>\n",
       "    <tr>\n",
       "      <th>...</th>\n",
       "      <td>...</td>\n",
       "      <td>...</td>\n",
       "      <td>...</td>\n",
       "      <td>...</td>\n",
       "      <td>...</td>\n",
       "      <td>...</td>\n",
       "      <td>...</td>\n",
       "      <td>...</td>\n",
       "    </tr>\n",
       "    <tr>\n",
       "      <th>21729</th>\n",
       "      <td>1.465691e+18</td>\n",
       "      <td>3139.0</td>\n",
       "      <td>4564.0</td>\n",
       "      <td>8784.0</td>\n",
       "      <td>0.0</td>\n",
       "      <td>0.0</td>\n",
       "      <td>1.0</td>\n",
       "      <td>0.0</td>\n",
       "    </tr>\n",
       "    <tr>\n",
       "      <th>21730</th>\n",
       "      <td>1.466567e+18</td>\n",
       "      <td>29.0</td>\n",
       "      <td>8.0</td>\n",
       "      <td>642.0</td>\n",
       "      <td>0.0</td>\n",
       "      <td>1.0</td>\n",
       "      <td>1.0</td>\n",
       "      <td>0.0</td>\n",
       "    </tr>\n",
       "    <tr>\n",
       "      <th>21731</th>\n",
       "      <td>1.467471e+18</td>\n",
       "      <td>1310.0</td>\n",
       "      <td>2377.0</td>\n",
       "      <td>9030.0</td>\n",
       "      <td>0.0</td>\n",
       "      <td>0.0</td>\n",
       "      <td>0.0</td>\n",
       "      <td>0.0</td>\n",
       "    </tr>\n",
       "    <tr>\n",
       "      <th>21732</th>\n",
       "      <td>1.465965e+18</td>\n",
       "      <td>3.0</td>\n",
       "      <td>31.0</td>\n",
       "      <td>2.0</td>\n",
       "      <td>0.0</td>\n",
       "      <td>7.0</td>\n",
       "      <td>3.0</td>\n",
       "      <td>0.0</td>\n",
       "    </tr>\n",
       "    <tr>\n",
       "      <th>21733</th>\n",
       "      <td>1.465929e+18</td>\n",
       "      <td>4743.0</td>\n",
       "      <td>1709.0</td>\n",
       "      <td>631.0</td>\n",
       "      <td>0.0</td>\n",
       "      <td>1.0</td>\n",
       "      <td>1.0</td>\n",
       "      <td>0.0</td>\n",
       "    </tr>\n",
       "  </tbody>\n",
       "</table>\n",
       "<p>21734 rows × 8 columns</p>\n",
       "</div>"
      ],
      "text/plain": [
       "                  0          1       2       3    4    5     6    7\n",
       "0      1.467030e+18      379.0   257.0  3451.0  0.0  0.0   3.0  0.0\n",
       "1      1.467418e+18      240.0  1271.0  7882.0  0.0  0.0   0.0  0.0\n",
       "2      1.466942e+18      348.0   290.0  2546.0  0.0  0.0   0.0  0.0\n",
       "3      1.466360e+18  1833754.0    37.0   399.0  1.0  4.0  14.0  0.0\n",
       "4      1.467466e+18      208.0   204.0  2267.0  0.0  0.0   0.0  0.0\n",
       "...             ...        ...     ...     ...  ...  ...   ...  ...\n",
       "21729  1.465691e+18     3139.0  4564.0  8784.0  0.0  0.0   1.0  0.0\n",
       "21730  1.466567e+18       29.0     8.0   642.0  0.0  1.0   1.0  0.0\n",
       "21731  1.467471e+18     1310.0  2377.0  9030.0  0.0  0.0   0.0  0.0\n",
       "21732  1.465965e+18        3.0    31.0     2.0  0.0  7.0   3.0  0.0\n",
       "21733  1.465929e+18     4743.0  1709.0   631.0  0.0  1.0   1.0  0.0\n",
       "\n",
       "[21734 rows x 8 columns]"
      ]
     },
     "execution_count": 51,
     "metadata": {},
     "output_type": "execute_result"
    }
   ],
   "source": [
    "a"
   ]
  },
  {
   "cell_type": "code",
   "execution_count": 39,
   "id": "60aa07de",
   "metadata": {},
   "outputs": [
    {
     "data": {
      "text/plain": [
       "0    0\n",
       "1    0\n",
       "2    0\n",
       "3    0\n",
       "4    0\n",
       "5    0\n",
       "6    0\n",
       "dtype: int64"
      ]
     },
     "execution_count": 39,
     "metadata": {},
     "output_type": "execute_result"
    }
   ],
   "source": [
    "pd.DataFrame(knn.transform(x_train[num_col])).isna().sum()"
   ]
  },
  {
   "cell_type": "code",
   "execution_count": 40,
   "id": "4cfee95d",
   "metadata": {},
   "outputs": [
    {
     "data": {
      "text/plain": [
       "0"
      ]
     },
     "execution_count": 40,
     "metadata": {},
     "output_type": "execute_result"
    }
   ],
   "source": [
    "pd.DataFrame(knn.transform(x_train[num_col])).isna().sum().sum()\n",
    "#0, means we dont have missing values now, its automatically \"placed the value by using knn distance calculator\""
   ]
  },
  {
   "cell_type": "code",
   "execution_count": 52,
   "id": "51e53bfd",
   "metadata": {},
   "outputs": [
    {
     "data": {
      "text/plain": [
       "KNNImputer(add_indicator=True)"
      ]
     },
     "execution_count": 52,
     "metadata": {},
     "output_type": "execute_result"
    }
   ],
   "source": [
    "#want to do x_test\n",
    "\n",
    "knn.fit(x_test[num_col])"
   ]
  },
  {
   "cell_type": "code",
   "execution_count": 53,
   "id": "dff1b719",
   "metadata": {},
   "outputs": [
    {
     "data": {
      "text/plain": [
       "array([[1.46940399e+18, 1.41390000e+04, 2.29700000e+03, ...,\n",
       "        3.50000000e+01, 2.67000000e+02, 0.00000000e+00],\n",
       "       [1.46597419e+18, 2.28420000e+04, 2.30250000e+04, ...,\n",
       "        2.00000000e+00, 9.00000000e+00, 0.00000000e+00],\n",
       "       [1.46564975e+18, 7.83000000e+02, 2.13000000e+02, ...,\n",
       "        0.00000000e+00, 1.00000000e+00, 0.00000000e+00],\n",
       "       ...,\n",
       "       [1.46746605e+18, 3.16000000e+02, 3.70000000e+01, ...,\n",
       "        1.00000000e+00, 1.00000000e+00, 0.00000000e+00],\n",
       "       [1.46595041e+18, 5.38500000e+03, 6.00000000e+00, ...,\n",
       "        1.00000000e+00, 3.00000000e+00, 0.00000000e+00],\n",
       "       [1.46833725e+18, 3.57300000e+03, 1.25600000e+03, ...,\n",
       "        1.00000000e+00, 3.00000000e+00, 0.00000000e+00]])"
      ]
     },
     "execution_count": 53,
     "metadata": {},
     "output_type": "execute_result"
    }
   ],
   "source": [
    "knn.transform(x_test[num_col])"
   ]
  },
  {
   "cell_type": "code",
   "execution_count": 54,
   "id": "ee95692b",
   "metadata": {},
   "outputs": [
    {
     "data": {
      "text/html": [
       "<div>\n",
       "<style scoped>\n",
       "    .dataframe tbody tr th:only-of-type {\n",
       "        vertical-align: middle;\n",
       "    }\n",
       "\n",
       "    .dataframe tbody tr th {\n",
       "        vertical-align: top;\n",
       "    }\n",
       "\n",
       "    .dataframe thead th {\n",
       "        text-align: right;\n",
       "    }\n",
       "</style>\n",
       "<table border=\"1\" class=\"dataframe\">\n",
       "  <thead>\n",
       "    <tr style=\"text-align: right;\">\n",
       "      <th></th>\n",
       "      <th>0</th>\n",
       "      <th>1</th>\n",
       "      <th>2</th>\n",
       "      <th>3</th>\n",
       "      <th>4</th>\n",
       "      <th>5</th>\n",
       "      <th>6</th>\n",
       "      <th>7</th>\n",
       "    </tr>\n",
       "  </thead>\n",
       "  <tbody>\n",
       "    <tr>\n",
       "      <th>0</th>\n",
       "      <td>1.469404e+18</td>\n",
       "      <td>14139.0</td>\n",
       "      <td>2297.0</td>\n",
       "      <td>3155.0</td>\n",
       "      <td>0.0</td>\n",
       "      <td>35.0</td>\n",
       "      <td>267.0</td>\n",
       "      <td>0.0</td>\n",
       "    </tr>\n",
       "    <tr>\n",
       "      <th>1</th>\n",
       "      <td>1.465974e+18</td>\n",
       "      <td>22842.0</td>\n",
       "      <td>23025.0</td>\n",
       "      <td>74422.0</td>\n",
       "      <td>0.0</td>\n",
       "      <td>2.0</td>\n",
       "      <td>9.0</td>\n",
       "      <td>0.0</td>\n",
       "    </tr>\n",
       "    <tr>\n",
       "      <th>2</th>\n",
       "      <td>1.465650e+18</td>\n",
       "      <td>783.0</td>\n",
       "      <td>213.0</td>\n",
       "      <td>35846.0</td>\n",
       "      <td>0.0</td>\n",
       "      <td>0.0</td>\n",
       "      <td>1.0</td>\n",
       "      <td>0.0</td>\n",
       "    </tr>\n",
       "    <tr>\n",
       "      <th>3</th>\n",
       "      <td>1.467329e+18</td>\n",
       "      <td>480.0</td>\n",
       "      <td>337.0</td>\n",
       "      <td>1956.0</td>\n",
       "      <td>0.0</td>\n",
       "      <td>0.0</td>\n",
       "      <td>0.0</td>\n",
       "      <td>0.0</td>\n",
       "    </tr>\n",
       "    <tr>\n",
       "      <th>4</th>\n",
       "      <td>1.468444e+18</td>\n",
       "      <td>55595.0</td>\n",
       "      <td>3.0</td>\n",
       "      <td>87.0</td>\n",
       "      <td>1.0</td>\n",
       "      <td>3.0</td>\n",
       "      <td>12.0</td>\n",
       "      <td>0.0</td>\n",
       "    </tr>\n",
       "    <tr>\n",
       "      <th>...</th>\n",
       "      <td>...</td>\n",
       "      <td>...</td>\n",
       "      <td>...</td>\n",
       "      <td>...</td>\n",
       "      <td>...</td>\n",
       "      <td>...</td>\n",
       "      <td>...</td>\n",
       "      <td>...</td>\n",
       "    </tr>\n",
       "    <tr>\n",
       "      <th>5429</th>\n",
       "      <td>1.465687e+18</td>\n",
       "      <td>200.0</td>\n",
       "      <td>88.0</td>\n",
       "      <td>10612.0</td>\n",
       "      <td>0.0</td>\n",
       "      <td>0.0</td>\n",
       "      <td>1.0</td>\n",
       "      <td>0.0</td>\n",
       "    </tr>\n",
       "    <tr>\n",
       "      <th>5430</th>\n",
       "      <td>1.469523e+18</td>\n",
       "      <td>675881.0</td>\n",
       "      <td>146.0</td>\n",
       "      <td>2805.0</td>\n",
       "      <td>1.0</td>\n",
       "      <td>0.0</td>\n",
       "      <td>2.0</td>\n",
       "      <td>0.0</td>\n",
       "    </tr>\n",
       "    <tr>\n",
       "      <th>5431</th>\n",
       "      <td>1.467466e+18</td>\n",
       "      <td>316.0</td>\n",
       "      <td>37.0</td>\n",
       "      <td>46032.0</td>\n",
       "      <td>0.0</td>\n",
       "      <td>1.0</td>\n",
       "      <td>1.0</td>\n",
       "      <td>0.0</td>\n",
       "    </tr>\n",
       "    <tr>\n",
       "      <th>5432</th>\n",
       "      <td>1.465950e+18</td>\n",
       "      <td>5385.0</td>\n",
       "      <td>6.0</td>\n",
       "      <td>3.0</td>\n",
       "      <td>1.0</td>\n",
       "      <td>1.0</td>\n",
       "      <td>3.0</td>\n",
       "      <td>0.0</td>\n",
       "    </tr>\n",
       "    <tr>\n",
       "      <th>5433</th>\n",
       "      <td>1.468337e+18</td>\n",
       "      <td>3573.0</td>\n",
       "      <td>1256.0</td>\n",
       "      <td>18945.0</td>\n",
       "      <td>0.0</td>\n",
       "      <td>1.0</td>\n",
       "      <td>3.0</td>\n",
       "      <td>0.0</td>\n",
       "    </tr>\n",
       "  </tbody>\n",
       "</table>\n",
       "<p>5434 rows × 8 columns</p>\n",
       "</div>"
      ],
      "text/plain": [
       "                 0         1        2        3    4     5      6    7\n",
       "0     1.469404e+18   14139.0   2297.0   3155.0  0.0  35.0  267.0  0.0\n",
       "1     1.465974e+18   22842.0  23025.0  74422.0  0.0   2.0    9.0  0.0\n",
       "2     1.465650e+18     783.0    213.0  35846.0  0.0   0.0    1.0  0.0\n",
       "3     1.467329e+18     480.0    337.0   1956.0  0.0   0.0    0.0  0.0\n",
       "4     1.468444e+18   55595.0      3.0     87.0  1.0   3.0   12.0  0.0\n",
       "...            ...       ...      ...      ...  ...   ...    ...  ...\n",
       "5429  1.465687e+18     200.0     88.0  10612.0  0.0   0.0    1.0  0.0\n",
       "5430  1.469523e+18  675881.0    146.0   2805.0  1.0   0.0    2.0  0.0\n",
       "5431  1.467466e+18     316.0     37.0  46032.0  0.0   1.0    1.0  0.0\n",
       "5432  1.465950e+18    5385.0      6.0      3.0  1.0   1.0    3.0  0.0\n",
       "5433  1.468337e+18    3573.0   1256.0  18945.0  0.0   1.0    3.0  0.0\n",
       "\n",
       "[5434 rows x 8 columns]"
      ]
     },
     "execution_count": 54,
     "metadata": {},
     "output_type": "execute_result"
    }
   ],
   "source": [
    "b = pd.DataFrame(knn.transform(x_test[num_col]))\n",
    "b"
   ]
  },
  {
   "cell_type": "code",
   "execution_count": 55,
   "id": "a183281a",
   "metadata": {},
   "outputs": [
    {
     "data": {
      "text/plain": [
       "0    0\n",
       "1    0\n",
       "2    0\n",
       "3    0\n",
       "4    0\n",
       "5    0\n",
       "6    0\n",
       "7    0\n",
       "dtype: int64"
      ]
     },
     "execution_count": 55,
     "metadata": {},
     "output_type": "execute_result"
    }
   ],
   "source": [
    "pd.DataFrame(knn.transform(x_test[num_col])).isna().sum()"
   ]
  },
  {
   "cell_type": "code",
   "execution_count": 56,
   "id": "06eae624",
   "metadata": {},
   "outputs": [
    {
     "data": {
      "text/plain": [
       "0"
      ]
     },
     "execution_count": 56,
     "metadata": {},
     "output_type": "execute_result"
    }
   ],
   "source": [
    "pd.DataFrame(knn.transform(x_test[num_col])).isna().sum().sum()"
   ]
  },
  {
   "cell_type": "code",
   "execution_count": null,
   "id": "095d33f1",
   "metadata": {},
   "outputs": [],
   "source": []
  }
 ],
 "metadata": {
  "kernelspec": {
   "display_name": "Python 3 (ipykernel)",
   "language": "python",
   "name": "python3"
  },
  "language_info": {
   "codemirror_mode": {
    "name": "ipython",
    "version": 3
   },
   "file_extension": ".py",
   "mimetype": "text/x-python",
   "name": "python",
   "nbconvert_exporter": "python",
   "pygments_lexer": "ipython3",
   "version": "3.9.5"
  }
 },
 "nbformat": 4,
 "nbformat_minor": 5
}
